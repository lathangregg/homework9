{
 "cells": [
  {
   "cell_type": "markdown",
   "id": "bbea800c-241d-42b4-a744-ecaffe13959e",
   "metadata": {},
   "source": [
    "# Metadata\n",
    "\n",
    "```yaml\n",
    "Course:  DS 5100\n",
    "Module:  09 Python Packages\n",
    "Topic:   HW Package Booklover\n",
    "Author:  R.C. Alvarado (adapted)\n",
    "Date:    7 July 2023 (revised)\n",
    "```"
   ]
  },
  {
   "cell_type": "markdown",
   "id": "36f46fdd-2405-4dc8-9ea1-33f395e56cc0",
   "metadata": {},
   "source": [
    "# Student Info\n",
    "\n",
    "* Name:  Lathan Gregg\n",
    "* Net UD: uua9gw\n",
    "* URL of this file in GitHub:"
   ]
  },
  {
   "cell_type": "markdown",
   "id": "375875a8-1503-46eb-8ea1-7e5bf39b5c41",
   "metadata": {},
   "source": [
    "# Instructions\n",
    "\n",
    "In your **private course repo on Rivanna**, use this Jupyter notebook and the data file described to write code that performs the tasks below. \n",
    "\n",
    "Save your notebook in the `M09` directory.\n",
    "\n",
    "Remember to add and commit these files to your repo. \n",
    "\n",
    "Then push your commits to your repo on GitHib.\n",
    "\n",
    "Be sure to fill out the **Student Info** block above.\n",
    "\n",
    "To submit your homework, save your results as a PDF and upload it to GradeScope. More information about how to create the PDF for this assignment are included at the end of this document.\n",
    "\n",
    "**TOTAL POINTS: 8**"
   ]
  },
  {
   "cell_type": "markdown",
   "id": "1baf08dc-35fe-44f1-bc26-7e1130ee993e",
   "metadata": {},
   "source": [
    "# Overview\n",
    "\n",
    "Follow the following recipe we used in class to package the code you wrote for `HW08` -- `booklover.py` and `booklover_test.py`.\n",
    "\n",
    "* Create a new git repo for your package.\n",
    "* Create and edit the required files and directories for your package and move the booklover modules there.\n",
    "* Stage, commit, and push all the files you've created.\n",
    "* Install your package with pip.\n",
    "* Outside of your package dir, write a script to test your method.\n",
    "\n",
    "Put this notebook in your repo. This will allow you to execute bash commands and capture the outpunt directly in the notebook.\n",
    "\n",
    "**TOTAL: 8 POINTS**"
   ]
  },
  {
   "cell_type": "markdown",
   "id": "6e39ba79-49ee-41e8-9e49-23d9d6bac2e0",
   "metadata": {
    "tags": []
   },
   "source": [
    "# Tasks"
   ]
  },
  {
   "cell_type": "markdown",
   "id": "fb11de14",
   "metadata": {},
   "source": [
    "## Task 1\n",
    "\n",
    "(5 points)\n",
    "\n",
    "Show the directory structure of your repo by running this command from the root of your repo:"
   ]
  },
  {
   "cell_type": "code",
   "execution_count": null,
   "id": "7e6c6607",
   "metadata": {},
   "outputs": [],
   "source": [
    "!ls -lR"
   ]
  },
  {
   "cell_type": "markdown",
   "id": "72b949a4",
   "metadata": {},
   "source": [
    "total 32/\n",
    "-rw-r--r--  1 lathangregg  staff  1069 Jul  2 19:43 LICENSE/\n",
    "-rw-r--r--  1 lathangregg  staff    11 Jul  2 19:43 README.md/\n",
    "-rw-r--r--@ 1 lathangregg  staff  2735 Jul  1 17:05 booklover_test.py/\n",
    "drwxr-xr-x  5 lathangregg  staff   160 Jul  2 20:02 build/\n",
    "drwxr-xr-x  5 lathangregg  staff   160 Jul  2 20:03 hw9package/\n",
    "drwxr-xr-x  7 lathangregg  staff   224 Jul  2 20:02 hw9package.egg-info/\n",
    "-rw-r--r--  1 lathangregg  staff   409 Jul  2 19:48 setup.py/\n",
    "\n",
    "./build:/\n",
    "total 0/\n",
    "drwxr-xr-x  2 lathangregg  staff  64 Jul  2 19:49 bdist.macosx-10.9-universal2/\n",
    "drwxr-xr-x  2 lathangregg  staff  64 Jul  2 20:02 bdist.macosx-10.9-x86_64/\n",
    "drwxr-xr-x  3 lathangregg  staff  96 Jul  2 19:49 lib/\n",
    "\n",
    "./build/bdist.macosx-10.9-universal2:/\n",
    "total 0/\n",
    "\n",
    "./build/bdist.macosx-10.9-x86_64:/\n",
    "total 0/\n",
    "\n",
    "./build/lib:/\n",
    "total 0/\n",
    "drwxr-xr-x  4 lathangregg  staff  128 Jul  2 19:49 hw9package/\n",
    "\n",
    "./build/lib/hw9package:/\n",
    "total 8/\n",
    "-rw-r--r--  1 lathangregg  staff     0 Jul  2 19:49 __init__.py/\n",
    "-rw-r--r--  1 lathangregg  staff  2224 Jul  2 18:18 booklover.py/\n",
    "\n",
    "./hw9package:/\n",
    "total 8/\n",
    "-rw-r--r--  1 lathangregg  staff     0 Jul  2 19:49 __init__.py/\n",
    "drwxr-xr-x  4 lathangregg  staff   128 Jul  2 20:03 __pycache__/\n",
    "-rw-r--r--  1 lathangregg  staff  2224 Jul  2 18:18 booklover.py/\n",
    "\n",
    "./hw9package/__pycache__:/\n",
    "total 16/\n",
    "-rw-r--r--  1 lathangregg  staff   182 Jul  2 20:03 __init__.cpython-311.pyc/\n",
    "-rw-r--r--  1 lathangregg  staff  3910 Jul  2 20:03 booklover.cpython-311.pyc/\n",
    "\n",
    "./hw9package.egg-info:/\n",
    "total 40/\n",
    "-rw-r--r--  1 lathangregg  staff  213 Jul  2 20:02 PKG-INFO/\n",
    "-rw-r--r--  1 lathangregg  staff  242 Jul  2 20:02 SOURCES.txt/\n",
    "-rw-r--r--  1 lathangregg  staff    1 Jul  2 20:02 dependency_links.txt/\n",
    "-rw-r--r--  1 lathangregg  staff   20 Jul  2 20:02 requires.txt/\n",
    "-rw-r--r--  1 lathangregg  staff   11 Jul  2 20:02 top_level.txt/\n",
    "\n"
   ]
  },
  {
   "cell_type": "markdown",
   "id": "6b6f288b-05aa-441b-8c73-84b50b3b6844",
   "metadata": {},
   "source": [
    "## Task 2\n",
    "\n",
    "(1 point)\n",
    "\n",
    "Put the URL of your GitHub repo here. Just paste it into a Markdown cell."
   ]
  },
  {
   "cell_type": "markdown",
   "id": "4d09d889-6104-4f20-b31c-2d8a72b17693",
   "metadata": {},
   "source": [
    "URL: https://github.com/lathangregg/homework9"
   ]
  },
  {
   "cell_type": "markdown",
   "id": "f989dcd1-b1d2-4eb9-8ef6-8ca2d8495260",
   "metadata": {
    "lines_to_next_cell": 0
   },
   "source": [
    "## Task 3\n",
    "\n",
    "(1 point)\n",
    "\n",
    "Show the results of installing your package.\n",
    "\n",
    "```bash\n",
    "!pip install -e .\n",
    "```"
   ]
  },
  {
   "cell_type": "markdown",
   "id": "ab3b1d36",
   "metadata": {},
   "source": [
    "Processing /Users/lathangregg/Documents/MSDS/DS5100/homework9/\n",
    "  Installing build dependencies ... done/\n",
    "  Getting requirements to build wheel ... done/\n",
    "  Preparing metadata (pyproject.toml) ... done/\n",
    "Requirement already satisfied: pytest in /Library/Frameworks/Python.framework/Versions/3.12/lib/python3.12/site-packages (from hw9package==0.1.0) (8.2.2)/\n",
    "Requirement already satisfied: numpy in /Library/Frameworks/Python.framework/Versions/3.12/lib/python3.12/site-packages (from hw9package==0.1.0) (2.0.0)/\n",
    "Requirement already satisfied: pandas in /Library/Frameworks/Python.framework/Versions/3.12/lib/python3.12/site-packages (from hw9package==0.1.0) (2.2.2)/\n",
    "Requirement already satisfied: python-dateutil>=2.8.2 in /Users/lathangregg/Library/Python/3.12/lib/python/site-packages (from pandas->hw9package==0.1.0) (2.9.0.post0)/\n",
    "Requirement already satisfied: pytz>=2020.1 in /Library/Frameworks/Python.framework/Versions/3.12/lib/python3.12/site-packages (from pandas->hw9package==0.1.0) (2024.1)/\n",
    "Requirement already satisfied: tzdata>=2022.7 in /Library/Frameworks/Python.framework/Versions/3.12/lib/python3.12/site-packages (from pandas->hw9package==0.1.0) (2024.1)/\n",
    "Requirement already satisfied: iniconfig in /Library/Frameworks/Python.framework/Versions/3.12/lib/python3.12/site-packages (from pytest->hw9package==0.1.0) (2.0.0)/\n",
    "Requirement already satisfied: packaging in /Users/lathangregg/Library/Python/3.12/lib/python/site-packages (from pytest->hw9package==0.1.0) (24.1)/\n",
    "Requirement already satisfied: pluggy<2.0,>=1.5 in /Library/Frameworks/Python.framework/Versions/3.12/lib/python3.12/site-packages (from pytest->hw9package==0.1.0) (1.5.0)/\n",
    "Requirement already satisfied: six>=1.5 in /Users/lathangregg/Library/Python/3.12/lib/python/site-packages (from python-dateutil>=2.8.2->pandas->hw9package==0.1.0) (1.16.0)/\n",
    "Building wheels for collected packages: hw9package/\n",
    "  Building wheel for hw9package (pyproject.toml) ... done/\n",
    "  Created wheel for hw9package: filename=hw9package-0.1.0-py3-none-any.whl size=2906 sha256=8e34365b518702dba9ffacb1a0a85043bcb77c97ce8d6481e732080177fc358d/\n",
    "  Stored in directory: /private/var/folders/sj/xc1pvfqd479gs7_4_rxlkx_c0000gn/T/pip-ephem-wheel-cache-qw_x4uo2/wheels/3a/fd/29/e9c16e3906196982306b9cfdb7b03db7bd8f1268d28092675a/\n",
    "Successfully built hw9package/\n",
    "Installing collected packages: hw9package/\n",
    "Successfully installed hw9package-0.1.0/\n"
   ]
  },
  {
   "cell_type": "markdown",
   "id": "5b1a642e-74f0-43ff-97a3-9ddc7553978e",
   "metadata": {},
   "source": [
    "## Task 4\n",
    "\n",
    "(1 point)\n",
    "\n",
    "Create a file outside your repo to test your package by running it.\n",
    "\n",
    "To do this, import the package into your file and create a BookLover object.\n",
    "\n",
    "Then add a book and then print number books read.\n",
    "\n",
    "Then run the file. \n",
    "\n",
    "Show the output of running the file below, using a command like the following:\n",
    "\n",
    "```bash\n",
    "!python ../book_lover_demo.py\n",
    "```"
   ]
  },
  {
   "cell_type": "code",
   "execution_count": 3,
   "id": "e3a7fd61",
   "metadata": {},
   "outputs": [
    {
     "name": "stdout",
     "output_type": "stream",
     "text": [
      "1\n"
     ]
    }
   ],
   "source": [
    "!python /Users/lathangregg/Documents/MSDS/DS5100/book_lover_demo.py"
   ]
  }
 ],
 "metadata": {
  "jupytext": {
   "cell_metadata_filter": "-all",
   "main_language": "bash",
   "notebook_metadata_filter": "-all"
  },
  "kernelspec": {
   "display_name": "Python 3 (ipykernel)",
   "language": "python",
   "name": "python3"
  },
  "language_info": {
   "codemirror_mode": {
    "name": "ipython",
    "version": 3
   },
   "file_extension": ".py",
   "mimetype": "text/x-python",
   "name": "python",
   "nbconvert_exporter": "python",
   "pygments_lexer": "ipython3",
   "version": "3.10.4"
  },
  "vscode": {
   "interpreter": {
    "hash": "c3b963de08c47c3b6758389c5e0978ad73698a111eb508d4e16b558edb8f4cbf"
   }
  },
  "widgets": {
   "application/vnd.jupyter.widget-state+json": {
    "state": {},
    "version_major": 2,
    "version_minor": 0
   }
  }
 },
 "nbformat": 4,
 "nbformat_minor": 5
}
